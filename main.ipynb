{
 "cells": [
  {
   "cell_type": "code",
   "execution_count": null,
   "metadata": {
    "scrolled": true
   },
   "outputs": [
    {
     "name": "stdout",
     "output_type": "stream",
     "text": [
      "Requirement already satisfied: python-docx in d:\\miniconda\\envs\\websearch\\lib\\site-packages (1.2.0)\n",
      "Requirement already satisfied: pdfminer.six in d:\\miniconda\\envs\\websearch\\lib\\site-packages (20250506)\n",
      "Requirement already satisfied: paddleocr in d:\\miniconda\\envs\\websearch\\lib\\site-packages (3.2.0)\n",
      "Requirement already satisfied: python-dotenv in d:\\miniconda\\envs\\websearch\\lib\\site-packages (1.1.1)\n",
      "Collecting PyMuPDF\n",
      "  Downloading pymupdf-1.26.5-cp39-abi3-win_amd64.whl.metadata (3.4 kB)\n",
      "Requirement already satisfied: python-a2a[all] in d:\\miniconda\\envs\\websearch\\lib\\site-packages (0.5.10)\n",
      "Requirement already satisfied: requests>=2.25.0 in d:\\miniconda\\envs\\websearch\\lib\\site-packages (from python-a2a[all]) (2.32.5)\n",
      "Requirement already satisfied: flask>=2.0.0 in d:\\miniconda\\envs\\websearch\\lib\\site-packages (from python-a2a[all]) (3.1.2)\n",
      "Requirement already satisfied: aiohttp>=3.8.0 in d:\\miniconda\\envs\\websearch\\lib\\site-packages (from python-a2a[all]) (3.13.0)\n",
      "Requirement already satisfied: openai>=1.0.0 in d:\\miniconda\\envs\\websearch\\lib\\site-packages (from python-a2a[all]) (2.3.0)\n",
      "Requirement already satisfied: anthropic>=0.3.0 in d:\\miniconda\\envs\\websearch\\lib\\site-packages (from python-a2a[all]) (0.70.0)\n",
      "Requirement already satisfied: boto3>=1.26.0 in d:\\miniconda\\envs\\websearch\\lib\\site-packages (from python-a2a[all]) (1.40.53)\n",
      "Requirement already satisfied: botocore>=1.29.0 in d:\\miniconda\\envs\\websearch\\lib\\site-packages (from python-a2a[all]) (1.40.53)\n",
      "Requirement already satisfied: httpx>=0.23.0 in d:\\miniconda\\envs\\websearch\\lib\\site-packages (from python-a2a[all]) (0.28.1)\n",
      "Requirement already satisfied: fastapi>=0.95.0 in d:\\miniconda\\envs\\websearch\\lib\\site-packages (from python-a2a[all]) (0.119.0)\n",
      "Requirement already satisfied: uvicorn>=0.21.0 in d:\\miniconda\\envs\\websearch\\lib\\site-packages (from python-a2a[all]) (0.37.0)\n",
      "Requirement already satisfied: pydantic>=1.10.7 in d:\\miniconda\\envs\\websearch\\lib\\site-packages (from python-a2a[all]) (2.12.0)\n",
      "Requirement already satisfied: langchain>=0.1.0 in d:\\miniconda\\envs\\websearch\\lib\\site-packages (from python-a2a[all]) (0.3.27)\n",
      "Requirement already satisfied: lxml>=3.1.0 in d:\\miniconda\\envs\\websearch\\lib\\site-packages (from python-docx) (5.4.0)\n",
      "Requirement already satisfied: typing_extensions>=4.9.0 in d:\\miniconda\\envs\\websearch\\lib\\site-packages (from python-docx) (4.15.0)\n",
      "Requirement already satisfied: charset-normalizer>=2.0.0 in d:\\miniconda\\envs\\websearch\\lib\\site-packages (from pdfminer.six) (3.4.3)\n",
      "Requirement already satisfied: cryptography>=36.0.0 in d:\\miniconda\\envs\\websearch\\lib\\site-packages (from pdfminer.six) (46.0.2)\n",
      "Requirement already satisfied: paddlex<3.3.0,>=3.2.0 in d:\\miniconda\\envs\\websearch\\lib\\site-packages (from paddlex[ocr-core]<3.3.0,>=3.2.0->paddleocr) (3.2.1)\n",
      "Requirement already satisfied: PyYAML>=6 in d:\\miniconda\\envs\\websearch\\lib\\site-packages (from paddleocr) (6.0.2)\n",
      "Requirement already satisfied: aistudio_sdk>=0.3.5 in d:\\miniconda\\envs\\websearch\\lib\\site-packages (from paddlex<3.3.0,>=3.2.0->paddlex[ocr-core]<3.3.0,>=3.2.0->paddleocr) (0.3.8)\n",
      "Requirement already satisfied: chardet in d:\\miniconda\\envs\\websearch\\lib\\site-packages (from paddlex<3.3.0,>=3.2.0->paddlex[ocr-core]<3.3.0,>=3.2.0->paddleocr) (5.2.0)\n",
      "Requirement already satisfied: colorlog in d:\\miniconda\\envs\\websearch\\lib\\site-packages (from paddlex<3.3.0,>=3.2.0->paddlex[ocr-core]<3.3.0,>=3.2.0->paddleocr) (6.9.0)\n",
      "Requirement already satisfied: filelock in d:\\miniconda\\envs\\websearch\\lib\\site-packages (from paddlex<3.3.0,>=3.2.0->paddlex[ocr-core]<3.3.0,>=3.2.0->paddleocr) (3.20.0)\n",
      "Requirement already satisfied: huggingface_hub in d:\\miniconda\\envs\\websearch\\lib\\site-packages (from paddlex<3.3.0,>=3.2.0->paddlex[ocr-core]<3.3.0,>=3.2.0->paddleocr) (0.35.3)\n",
      "Requirement already satisfied: modelscope>=1.28.0 in d:\\miniconda\\envs\\websearch\\lib\\site-packages (from paddlex<3.3.0,>=3.2.0->paddlex[ocr-core]<3.3.0,>=3.2.0->paddleocr) (1.31.0)\n",
      "Requirement already satisfied: numpy>=1.24 in d:\\miniconda\\envs\\websearch\\lib\\site-packages (from paddlex<3.3.0,>=3.2.0->paddlex[ocr-core]<3.3.0,>=3.2.0->paddleocr) (2.3.3)\n",
      "Requirement already satisfied: packaging in d:\\miniconda\\envs\\websearch\\lib\\site-packages (from paddlex<3.3.0,>=3.2.0->paddlex[ocr-core]<3.3.0,>=3.2.0->paddleocr) (25.0)\n",
      "Requirement already satisfied: pandas>=1.3 in d:\\miniconda\\envs\\websearch\\lib\\site-packages (from paddlex<3.3.0,>=3.2.0->paddlex[ocr-core]<3.3.0,>=3.2.0->paddleocr) (2.3.3)\n",
      "Requirement already satisfied: pillow in d:\\miniconda\\envs\\websearch\\lib\\site-packages (from paddlex<3.3.0,>=3.2.0->paddlex[ocr-core]<3.3.0,>=3.2.0->paddleocr) (11.3.0)\n",
      "Requirement already satisfied: prettytable in d:\\miniconda\\envs\\websearch\\lib\\site-packages (from paddlex<3.3.0,>=3.2.0->paddlex[ocr-core]<3.3.0,>=3.2.0->paddleocr) (3.16.0)\n",
      "Requirement already satisfied: py-cpuinfo in d:\\miniconda\\envs\\websearch\\lib\\site-packages (from paddlex<3.3.0,>=3.2.0->paddlex[ocr-core]<3.3.0,>=3.2.0->paddleocr) (9.0.0)\n",
      "Requirement already satisfied: ruamel.yaml in d:\\miniconda\\envs\\websearch\\lib\\site-packages (from paddlex<3.3.0,>=3.2.0->paddlex[ocr-core]<3.3.0,>=3.2.0->paddleocr) (0.18.15)\n",
      "Requirement already satisfied: ujson in d:\\miniconda\\envs\\websearch\\lib\\site-packages (from paddlex<3.3.0,>=3.2.0->paddlex[ocr-core]<3.3.0,>=3.2.0->paddleocr) (5.11.0)\n",
      "Requirement already satisfied: imagesize in d:\\miniconda\\envs\\websearch\\lib\\site-packages (from paddlex[ocr-core]<3.3.0,>=3.2.0->paddleocr) (1.4.1)\n",
      "Requirement already satisfied: opencv-contrib-python==4.10.0.84 in d:\\miniconda\\envs\\websearch\\lib\\site-packages (from paddlex[ocr-core]<3.3.0,>=3.2.0->paddleocr) (4.10.0.84)\n",
      "Requirement already satisfied: pyclipper in d:\\miniconda\\envs\\websearch\\lib\\site-packages (from paddlex[ocr-core]<3.3.0,>=3.2.0->paddleocr) (1.3.0.post6)\n",
      "Requirement already satisfied: pypdfium2>=4 in d:\\miniconda\\envs\\websearch\\lib\\site-packages (from paddlex[ocr-core]<3.3.0,>=3.2.0->paddleocr) (4.30.0)\n",
      "Requirement already satisfied: shapely in d:\\miniconda\\envs\\websearch\\lib\\site-packages (from paddlex[ocr-core]<3.3.0,>=3.2.0->paddleocr) (2.1.2)\n",
      "Requirement already satisfied: aiohappyeyeballs>=2.5.0 in d:\\miniconda\\envs\\websearch\\lib\\site-packages (from aiohttp>=3.8.0->python-a2a[all]) (2.6.1)\n",
      "Requirement already satisfied: aiosignal>=1.4.0 in d:\\miniconda\\envs\\websearch\\lib\\site-packages (from aiohttp>=3.8.0->python-a2a[all]) (1.4.0)\n",
      "Requirement already satisfied: attrs>=17.3.0 in d:\\miniconda\\envs\\websearch\\lib\\site-packages (from aiohttp>=3.8.0->python-a2a[all]) (25.4.0)\n",
      "Requirement already satisfied: frozenlist>=1.1.1 in d:\\miniconda\\envs\\websearch\\lib\\site-packages (from aiohttp>=3.8.0->python-a2a[all]) (1.8.0)\n",
      "Requirement already satisfied: multidict<7.0,>=4.5 in d:\\miniconda\\envs\\websearch\\lib\\site-packages (from aiohttp>=3.8.0->python-a2a[all]) (6.7.0)\n",
      "Requirement already satisfied: propcache>=0.2.0 in d:\\miniconda\\envs\\websearch\\lib\\site-packages (from aiohttp>=3.8.0->python-a2a[all]) (0.4.1)\n",
      "Requirement already satisfied: yarl<2.0,>=1.17.0 in d:\\miniconda\\envs\\websearch\\lib\\site-packages (from aiohttp>=3.8.0->python-a2a[all]) (1.22.0)\n",
      "Requirement already satisfied: idna>=2.0 in d:\\miniconda\\envs\\websearch\\lib\\site-packages (from yarl<2.0,>=1.17.0->aiohttp>=3.8.0->python-a2a[all]) (3.10)\n",
      "Requirement already satisfied: psutil in d:\\miniconda\\envs\\websearch\\lib\\site-packages (from aistudio_sdk>=0.3.5->paddlex<3.3.0,>=3.2.0->paddlex[ocr-core]<3.3.0,>=3.2.0->paddleocr) (7.0.0)\n",
      "Requirement already satisfied: tqdm in d:\\miniconda\\envs\\websearch\\lib\\site-packages (from aistudio_sdk>=0.3.5->paddlex<3.3.0,>=3.2.0->paddlex[ocr-core]<3.3.0,>=3.2.0->paddleocr) (4.67.1)\n",
      "Requirement already satisfied: bce-python-sdk in d:\\miniconda\\envs\\websearch\\lib\\site-packages (from aistudio_sdk>=0.3.5->paddlex<3.3.0,>=3.2.0->paddlex[ocr-core]<3.3.0,>=3.2.0->paddleocr) (0.9.46)\n",
      "Requirement already satisfied: click in d:\\miniconda\\envs\\websearch\\lib\\site-packages (from aistudio_sdk>=0.3.5->paddlex<3.3.0,>=3.2.0->paddlex[ocr-core]<3.3.0,>=3.2.0->paddleocr) (8.3.0)\n",
      "Requirement already satisfied: anyio<5,>=3.5.0 in d:\\miniconda\\envs\\websearch\\lib\\site-packages (from anthropic>=0.3.0->python-a2a[all]) (4.11.0)\n",
      "Requirement already satisfied: distro<2,>=1.7.0 in d:\\miniconda\\envs\\websearch\\lib\\site-packages (from anthropic>=0.3.0->python-a2a[all]) (1.9.0)\n",
      "Requirement already satisfied: docstring-parser<1,>=0.15 in d:\\miniconda\\envs\\websearch\\lib\\site-packages (from anthropic>=0.3.0->python-a2a[all]) (0.17.0)\n",
      "Requirement already satisfied: jiter<1,>=0.4.0 in d:\\miniconda\\envs\\websearch\\lib\\site-packages (from anthropic>=0.3.0->python-a2a[all]) (0.11.0)\n",
      "Requirement already satisfied: sniffio in d:\\miniconda\\envs\\websearch\\lib\\site-packages (from anthropic>=0.3.0->python-a2a[all]) (1.3.1)\n",
      "Requirement already satisfied: certifi in d:\\miniconda\\envs\\websearch\\lib\\site-packages (from httpx>=0.23.0->python-a2a[all]) (2025.10.5)\n",
      "Requirement already satisfied: httpcore==1.* in d:\\miniconda\\envs\\websearch\\lib\\site-packages (from httpx>=0.23.0->python-a2a[all]) (1.0.9)\n",
      "Requirement already satisfied: h11>=0.16 in d:\\miniconda\\envs\\websearch\\lib\\site-packages (from httpcore==1.*->httpx>=0.23.0->python-a2a[all]) (0.16.0)\n",
      "Requirement already satisfied: annotated-types>=0.6.0 in d:\\miniconda\\envs\\websearch\\lib\\site-packages (from pydantic>=1.10.7->python-a2a[all]) (0.7.0)\n",
      "Requirement already satisfied: pydantic-core==2.41.1 in d:\\miniconda\\envs\\websearch\\lib\\site-packages (from pydantic>=1.10.7->python-a2a[all]) (2.41.1)\n",
      "Requirement already satisfied: typing-inspection>=0.4.2 in d:\\miniconda\\envs\\websearch\\lib\\site-packages (from pydantic>=1.10.7->python-a2a[all]) (0.4.2)\n",
      "Requirement already satisfied: jmespath<2.0.0,>=0.7.1 in d:\\miniconda\\envs\\websearch\\lib\\site-packages (from boto3>=1.26.0->python-a2a[all]) (1.0.1)\n",
      "Requirement already satisfied: s3transfer<0.15.0,>=0.14.0 in d:\\miniconda\\envs\\websearch\\lib\\site-packages (from boto3>=1.26.0->python-a2a[all]) (0.14.0)\n",
      "Requirement already satisfied: python-dateutil<3.0.0,>=2.1 in d:\\miniconda\\envs\\websearch\\lib\\site-packages (from botocore>=1.29.0->python-a2a[all]) (2.9.0.post0)\n",
      "Requirement already satisfied: urllib3!=2.2.0,<3,>=1.25.4 in d:\\miniconda\\envs\\websearch\\lib\\site-packages (from botocore>=1.29.0->python-a2a[all]) (2.5.0)\n",
      "Requirement already satisfied: six>=1.5 in d:\\miniconda\\envs\\websearch\\lib\\site-packages (from python-dateutil<3.0.0,>=2.1->botocore>=1.29.0->python-a2a[all]) (1.17.0)\n",
      "Requirement already satisfied: cffi>=2.0.0 in d:\\miniconda\\envs\\websearch\\lib\\site-packages (from cryptography>=36.0.0->pdfminer.six) (2.0.0)\n",
      "Requirement already satisfied: pycparser in d:\\miniconda\\envs\\websearch\\lib\\site-packages (from cffi>=2.0.0->cryptography>=36.0.0->pdfminer.six) (2.23)\n",
      "Requirement already satisfied: starlette<0.49.0,>=0.40.0 in d:\\miniconda\\envs\\websearch\\lib\\site-packages (from fastapi>=0.95.0->python-a2a[all]) (0.48.0)\n",
      "Requirement already satisfied: blinker>=1.9.0 in d:\\miniconda\\envs\\websearch\\lib\\site-packages (from flask>=2.0.0->python-a2a[all]) (1.9.0)\n",
      "Requirement already satisfied: itsdangerous>=2.2.0 in d:\\miniconda\\envs\\websearch\\lib\\site-packages (from flask>=2.0.0->python-a2a[all]) (2.2.0)\n",
      "Requirement already satisfied: jinja2>=3.1.2 in d:\\miniconda\\envs\\websearch\\lib\\site-packages (from flask>=2.0.0->python-a2a[all]) (3.1.6)\n",
      "Requirement already satisfied: markupsafe>=2.1.1 in d:\\miniconda\\envs\\websearch\\lib\\site-packages (from flask>=2.0.0->python-a2a[all]) (3.0.3)\n",
      "Requirement already satisfied: werkzeug>=3.1.0 in d:\\miniconda\\envs\\websearch\\lib\\site-packages (from flask>=2.0.0->python-a2a[all]) (3.1.3)\n",
      "Requirement already satisfied: colorama in d:\\miniconda\\envs\\websearch\\lib\\site-packages (from click->aistudio_sdk>=0.3.5->paddlex<3.3.0,>=3.2.0->paddlex[ocr-core]<3.3.0,>=3.2.0->paddleocr) (0.4.6)\n",
      "Requirement already satisfied: langchain-core<1.0.0,>=0.3.72 in d:\\miniconda\\envs\\websearch\\lib\\site-packages (from langchain>=0.1.0->python-a2a[all]) (0.3.79)\n",
      "Requirement already satisfied: langchain-text-splitters<1.0.0,>=0.3.9 in d:\\miniconda\\envs\\websearch\\lib\\site-packages (from langchain>=0.1.0->python-a2a[all]) (0.3.11)\n",
      "Requirement already satisfied: langsmith>=0.1.17 in d:\\miniconda\\envs\\websearch\\lib\\site-packages (from langchain>=0.1.0->python-a2a[all]) (0.4.37)\n",
      "Requirement already satisfied: SQLAlchemy<3,>=1.4 in d:\\miniconda\\envs\\websearch\\lib\\site-packages (from langchain>=0.1.0->python-a2a[all]) (2.0.44)\n",
      "Requirement already satisfied: tenacity!=8.4.0,<10.0.0,>=8.1.0 in d:\\miniconda\\envs\\websearch\\lib\\site-packages (from langchain-core<1.0.0,>=0.3.72->langchain>=0.1.0->python-a2a[all]) (9.1.2)\n",
      "Requirement already satisfied: jsonpatch<2.0.0,>=1.33.0 in d:\\miniconda\\envs\\websearch\\lib\\site-packages (from langchain-core<1.0.0,>=0.3.72->langchain>=0.1.0->python-a2a[all]) (1.33)\n",
      "Requirement already satisfied: jsonpointer>=1.9 in d:\\miniconda\\envs\\websearch\\lib\\site-packages (from jsonpatch<2.0.0,>=1.33.0->langchain-core<1.0.0,>=0.3.72->langchain>=0.1.0->python-a2a[all]) (3.0.0)\n",
      "Requirement already satisfied: orjson>=3.9.14 in d:\\miniconda\\envs\\websearch\\lib\\site-packages (from langsmith>=0.1.17->langchain>=0.1.0->python-a2a[all]) (3.11.3)\n",
      "Requirement already satisfied: requests-toolbelt>=1.0.0 in d:\\miniconda\\envs\\websearch\\lib\\site-packages (from langsmith>=0.1.17->langchain>=0.1.0->python-a2a[all]) (1.0.0)\n",
      "Requirement already satisfied: zstandard>=0.23.0 in d:\\miniconda\\envs\\websearch\\lib\\site-packages (from langsmith>=0.1.17->langchain>=0.1.0->python-a2a[all]) (0.25.0)\n",
      "Requirement already satisfied: greenlet>=1 in d:\\miniconda\\envs\\websearch\\lib\\site-packages (from SQLAlchemy<3,>=1.4->langchain>=0.1.0->python-a2a[all]) (3.2.4)\n",
      "Requirement already satisfied: setuptools in d:\\miniconda\\envs\\websearch\\lib\\site-packages (from modelscope>=1.28.0->paddlex<3.3.0,>=3.2.0->paddlex[ocr-core]<3.3.0,>=3.2.0->paddleocr) (80.9.0)\n",
      "Requirement already satisfied: pytz>=2020.1 in d:\\miniconda\\envs\\websearch\\lib\\site-packages (from pandas>=1.3->paddlex<3.3.0,>=3.2.0->paddlex[ocr-core]<3.3.0,>=3.2.0->paddleocr) (2025.2)\n",
      "Requirement already satisfied: tzdata>=2022.7 in d:\\miniconda\\envs\\websearch\\lib\\site-packages (from pandas>=1.3->paddlex<3.3.0,>=3.2.0->paddlex[ocr-core]<3.3.0,>=3.2.0->paddleocr) (2025.2)\n",
      "Requirement already satisfied: pycryptodome>=3.8.0 in d:\\miniconda\\envs\\websearch\\lib\\site-packages (from bce-python-sdk->aistudio_sdk>=0.3.5->paddlex<3.3.0,>=3.2.0->paddlex[ocr-core]<3.3.0,>=3.2.0->paddleocr) (3.23.0)\n",
      "Requirement already satisfied: future>=0.6.0 in d:\\miniconda\\envs\\websearch\\lib\\site-packages (from bce-python-sdk->aistudio_sdk>=0.3.5->paddlex<3.3.0,>=3.2.0->paddlex[ocr-core]<3.3.0,>=3.2.0->paddleocr) (1.0.0)\n",
      "Requirement already satisfied: fsspec>=2023.5.0 in d:\\miniconda\\envs\\websearch\\lib\\site-packages (from huggingface_hub->paddlex<3.3.0,>=3.2.0->paddlex[ocr-core]<3.3.0,>=3.2.0->paddleocr) (2025.9.0)\n",
      "Requirement already satisfied: wcwidth in d:\\miniconda\\envs\\websearch\\lib\\site-packages (from prettytable->paddlex<3.3.0,>=3.2.0->paddlex[ocr-core]<3.3.0,>=3.2.0->paddleocr) (0.2.14)\n",
      "Requirement already satisfied: ruamel.yaml.clib>=0.2.7 in d:\\miniconda\\envs\\websearch\\lib\\site-packages (from ruamel.yaml->paddlex<3.3.0,>=3.2.0->paddlex[ocr-core]<3.3.0,>=3.2.0->paddleocr) (0.2.14)\n",
      "Downloading pymupdf-1.26.5-cp39-abi3-win_amd64.whl (18.7 MB)\n",
      "   ---------------------------------------- 0.0/18.7 MB ? eta -:--:--\n",
      "    --------------------------------------- 0.3/18.7 MB ? eta -:--:--\n",
      "   - -------------------------------------- 0.5/18.7 MB 2.1 MB/s eta 0:00:09\n",
      "   -- ------------------------------------- 1.0/18.7 MB 1.9 MB/s eta 0:00:10\n",
      "   -- ------------------------------------- 1.3/18.7 MB 1.7 MB/s eta 0:00:11\n",
      "   ---- ----------------------------------- 2.1/18.7 MB 2.2 MB/s eta 0:00:08\n",
      "   ----- ---------------------------------- 2.6/18.7 MB 2.2 MB/s eta 0:00:08\n",
      "   ------ --------------------------------- 3.1/18.7 MB 2.3 MB/s eta 0:00:07\n",
      "   ------- -------------------------------- 3.4/18.7 MB 2.3 MB/s eta 0:00:07\n",
      "   -------- ------------------------------- 3.9/18.7 MB 2.3 MB/s eta 0:00:07\n",
      "   --------- ------------------------------ 4.5/18.7 MB 2.3 MB/s eta 0:00:07\n",
      "   ---------- ----------------------------- 5.0/18.7 MB 2.3 MB/s eta 0:00:07\n",
      "   ----------- ---------------------------- 5.5/18.7 MB 2.3 MB/s eta 0:00:06\n",
      "   ------------ --------------------------- 6.0/18.7 MB 2.3 MB/s eta 0:00:06\n",
      "   ------------- -------------------------- 6.6/18.7 MB 2.3 MB/s eta 0:00:06\n",
      "   -------------- ------------------------- 6.8/18.7 MB 2.3 MB/s eta 0:00:06\n",
      "   --------------- ------------------------ 7.3/18.7 MB 2.3 MB/s eta 0:00:05\n",
      "   ---------------- ----------------------- 7.9/18.7 MB 2.3 MB/s eta 0:00:05\n",
      "   ----------------- ---------------------- 8.4/18.7 MB 2.3 MB/s eta 0:00:05\n",
      "   ------------------- -------------------- 8.9/18.7 MB 2.3 MB/s eta 0:00:05\n",
      "   ------------------- -------------------- 9.2/18.7 MB 2.3 MB/s eta 0:00:05\n",
      "   -------------------- ------------------- 9.7/18.7 MB 2.3 MB/s eta 0:00:04\n",
      "   --------------------- ------------------ 10.2/18.7 MB 2.3 MB/s eta 0:00:04\n",
      "   ---------------------- ----------------- 10.5/18.7 MB 2.3 MB/s eta 0:00:04\n",
      "   ----------------------- ---------------- 11.0/18.7 MB 2.3 MB/s eta 0:00:04\n",
      "   ------------------------ --------------- 11.5/18.7 MB 2.3 MB/s eta 0:00:04\n",
      "   ------------------------- -------------- 12.1/18.7 MB 2.3 MB/s eta 0:00:03\n",
      "   -------------------------- ------------- 12.6/18.7 MB 2.3 MB/s eta 0:00:03\n",
      "   --------------------------- ------------ 13.1/18.7 MB 2.3 MB/s eta 0:00:03\n",
      "   ----------------------------- ---------- 13.6/18.7 MB 2.3 MB/s eta 0:00:03\n",
      "   ----------------------------- ---------- 13.9/18.7 MB 2.3 MB/s eta 0:00:03\n",
      "   ------------------------------ --------- 14.4/18.7 MB 2.3 MB/s eta 0:00:02\n",
      "   ------------------------------- -------- 14.9/18.7 MB 2.3 MB/s eta 0:00:02\n",
      "   --------------------------------- ------ 15.5/18.7 MB 2.3 MB/s eta 0:00:02\n",
      "   ---------------------------------- ----- 16.0/18.7 MB 2.3 MB/s eta 0:00:02\n",
      "   ----------------------------------- ---- 16.5/18.7 MB 2.3 MB/s eta 0:00:01\n",
      "   ----------------------------------- ---- 16.8/18.7 MB 2.3 MB/s eta 0:00:01\n",
      "   ------------------------------------ --- 17.3/18.7 MB 2.3 MB/s eta 0:00:01\n",
      "   ------------------------------------- -- 17.6/18.7 MB 2.3 MB/s eta 0:00:01\n",
      "   -------------------------------------- - 18.1/18.7 MB 2.3 MB/s eta 0:00:01\n",
      "   ---------------------------------------- 18.7/18.7 MB 2.3 MB/s  0:00:08\n",
      "Installing collected packages: PyMuPDF\n",
      "Successfully installed PyMuPDF-1.26.5\n"
     ]
    }
   ],
   "source": [
    "#配置环境 \n",
    "!pip install \"python-a2a[all]\" python-docx pdfminer.six paddleocr python-dotenv"
   ]
  },
  {
   "cell_type": "code",
   "execution_count": null,
   "metadata": {},
   "outputs": [
    {
     "name": "stdout",
     "output_type": "stream",
     "text": [
      "Looking in indexes: https://www.paddlepaddle.org.cn/packages/stable/cu129/\n",
      "Requirement already satisfied: paddlepaddle-gpu==3.2.0 in d:\\miniconda\\envs\\websearch\\lib\\site-packages (3.2.0)\n",
      "Requirement already satisfied: httpx in d:\\miniconda\\envs\\websearch\\lib\\site-packages (from paddlepaddle-gpu==3.2.0) (0.28.1)\n",
      "Requirement already satisfied: numpy>=1.21 in d:\\miniconda\\envs\\websearch\\lib\\site-packages (from paddlepaddle-gpu==3.2.0) (2.3.3)\n",
      "Requirement already satisfied: protobuf>=3.20.2 in d:\\miniconda\\envs\\websearch\\lib\\site-packages (from paddlepaddle-gpu==3.2.0) (6.31.1)\n",
      "Requirement already satisfied: Pillow in d:\\miniconda\\envs\\websearch\\lib\\site-packages (from paddlepaddle-gpu==3.2.0) (11.3.0)\n",
      "Requirement already satisfied: opt-einsum==3.3.0 in d:\\miniconda\\envs\\websearch\\lib\\site-packages (from paddlepaddle-gpu==3.2.0) (3.3.0)\n",
      "Requirement already satisfied: networkx in d:\\miniconda\\envs\\websearch\\lib\\site-packages (from paddlepaddle-gpu==3.2.0) (3.5)\n",
      "Requirement already satisfied: typing-extensions in d:\\miniconda\\envs\\websearch\\lib\\site-packages (from paddlepaddle-gpu==3.2.0) (4.15.0)\n",
      "Requirement already satisfied: safetensors>=0.6.0 in d:\\miniconda\\envs\\websearch\\lib\\site-packages (from paddlepaddle-gpu==3.2.0) (0.6.2)\n",
      "Requirement already satisfied: nvidia-cuda-runtime-cu12==12.6.77 in d:\\miniconda\\envs\\websearch\\lib\\site-packages (from paddlepaddle-gpu==3.2.0) (12.6.77)\n",
      "Requirement already satisfied: nvidia-cudnn-cu12==9.5.1.17 in d:\\miniconda\\envs\\websearch\\lib\\site-packages (from paddlepaddle-gpu==3.2.0) (9.5.1.17)\n",
      "Requirement already satisfied: nvidia-cublas-cu12==12.6.4.1 in d:\\miniconda\\envs\\websearch\\lib\\site-packages (from paddlepaddle-gpu==3.2.0) (12.6.4.1)\n",
      "Requirement already satisfied: nvidia-cufft-cu12==11.3.0.4 in d:\\miniconda\\envs\\websearch\\lib\\site-packages (from paddlepaddle-gpu==3.2.0) (11.3.0.4)\n",
      "Requirement already satisfied: nvidia-curand-cu12==10.3.7.77 in d:\\miniconda\\envs\\websearch\\lib\\site-packages (from paddlepaddle-gpu==3.2.0) (10.3.7.77)\n",
      "Requirement already satisfied: nvidia-cusolver-cu12==11.7.1.2 in d:\\miniconda\\envs\\websearch\\lib\\site-packages (from paddlepaddle-gpu==3.2.0) (11.7.1.2)\n",
      "Requirement already satisfied: nvidia-cusparse-cu12==12.5.4.2 in d:\\miniconda\\envs\\websearch\\lib\\site-packages (from paddlepaddle-gpu==3.2.0) (12.5.4.2)\n",
      "Requirement already satisfied: nvidia-nvjitlink-cu12 in d:\\miniconda\\envs\\websearch\\lib\\site-packages (from nvidia-cufft-cu12==11.3.0.4->paddlepaddle-gpu==3.2.0) (12.9.86)\n",
      "Requirement already satisfied: anyio in d:\\miniconda\\envs\\websearch\\lib\\site-packages (from httpx->paddlepaddle-gpu==3.2.0) (4.11.0)\n",
      "Requirement already satisfied: certifi in d:\\miniconda\\envs\\websearch\\lib\\site-packages (from httpx->paddlepaddle-gpu==3.2.0) (2025.10.5)\n",
      "Requirement already satisfied: httpcore==1.* in d:\\miniconda\\envs\\websearch\\lib\\site-packages (from httpx->paddlepaddle-gpu==3.2.0) (1.0.9)\n",
      "Requirement already satisfied: idna in d:\\miniconda\\envs\\websearch\\lib\\site-packages (from httpx->paddlepaddle-gpu==3.2.0) (3.10)\n",
      "Requirement already satisfied: h11>=0.16 in d:\\miniconda\\envs\\websearch\\lib\\site-packages (from httpcore==1.*->httpx->paddlepaddle-gpu==3.2.0) (0.16.0)\n",
      "Requirement already satisfied: sniffio>=1.1 in d:\\miniconda\\envs\\websearch\\lib\\site-packages (from anyio->httpx->paddlepaddle-gpu==3.2.0) (1.3.1)\n"
     ]
    }
   ],
   "source": [
    "#!pip uninstall paddlepaddle-gpu\n",
    "!python -m pip install paddlepaddle-gpu==3.2.0 -i https://www.paddlepaddle.org.cn/packages/stable/cu129/"
   ]
  },
  {
   "cell_type": "code",
   "execution_count": 8,
   "metadata": {
    "scrolled": true
   },
   "outputs": [
    {
     "name": "stdout",
     "output_type": "stream",
     "text": [
      "^C\n"
     ]
    },
    {
     "name": "stderr",
     "output_type": "stream",
     "text": [
      "INFO:python_a2a.mcp.fastmcp:Initialized FastMCP server: Contract Processing Tools v1.0.0\n",
      "e:\\Opensource\\contract\\mcp_service.py:32: DeprecationWarning: The parameter `use_angle_cls` has been deprecated and will be removed in the future. Please use `use_textline_orientation` instead.\n",
      "  ocr = PaddleOCR(\n",
      "ERROR:DocProcessor:PaddleOCR初始化失败: No module named 'paddle'\n",
      "INFO:python_a2a.mcp.fastmcp:Registered tool: parse_contract\n",
      "INFO:python_a2a.mcp.fastmcp:Registered tool: highlight_contract\n",
      "INFO:     Started server process [39212]\n",
      "INFO:     Waiting for application startup.\n",
      "INFO:     Application startup complete.\n",
      "INFO:     Uvicorn running on http://0.0.0.0:7001 (Press CTRL+C to quit)\n"
     ]
    }
   ],
   "source": [
    "!python mcp_service.py"
   ]
  },
  {
   "cell_type": "code",
   "execution_count": null,
   "metadata": {
    "scrolled": true
   },
   "outputs": [],
   "source": [
    "!python agents.py all"
   ]
  }
 ],
 "metadata": {
  "kernelspec": {
   "display_name": "websearch",
   "language": "python",
   "name": "python3"
  },
  "language_info": {
   "codemirror_mode": {
    "name": "ipython",
    "version": 3
   },
   "file_extension": ".py",
   "mimetype": "text/x-python",
   "name": "python",
   "nbconvert_exporter": "python",
   "pygments_lexer": "ipython3",
   "version": "3.12.11"
  }
 },
 "nbformat": 4,
 "nbformat_minor": 4
}
